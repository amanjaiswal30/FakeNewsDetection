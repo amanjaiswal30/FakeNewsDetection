{
 "cells": [
  {
   "cell_type": "code",
   "execution_count": 1,
   "metadata": {},
   "outputs": [],
   "source": [
    "import pandas as pd\n",
    "import nltk\n",
    "import sklearn\n",
    "import textblob\n",
    "from textblob import TextBlob\n",
    "import matplotlib\n",
    "import seaborn\n",
    "#nltk.download()"
   ]
  },
  {
   "cell_type": "code",
   "execution_count": 2,
   "metadata": {},
   "outputs": [],
   "source": [
    "dataset=pd.read_csv(\"C:\\\\Users\\\\amanj\\\\Downloads\\\\fake-news\\\\train.csv\",encoding=\"latin-1\")"
   ]
  },
  {
   "cell_type": "code",
   "execution_count": 3,
   "metadata": {},
   "outputs": [
    {
     "data": {
      "text/html": [
       "<div>\n",
       "<style scoped>\n",
       "    .dataframe tbody tr th:only-of-type {\n",
       "        vertical-align: middle;\n",
       "    }\n",
       "\n",
       "    .dataframe tbody tr th {\n",
       "        vertical-align: top;\n",
       "    }\n",
       "\n",
       "    .dataframe thead th {\n",
       "        text-align: right;\n",
       "    }\n",
       "</style>\n",
       "<table border=\"1\" class=\"dataframe\">\n",
       "  <thead>\n",
       "    <tr style=\"text-align: right;\">\n",
       "      <th></th>\n",
       "      <th>id</th>\n",
       "      <th>title</th>\n",
       "      <th>author</th>\n",
       "      <th>text</th>\n",
       "      <th>label</th>\n",
       "    </tr>\n",
       "  </thead>\n",
       "  <tbody>\n",
       "    <tr>\n",
       "      <td>0</td>\n",
       "      <td>0</td>\n",
       "      <td>House Dem Aide: We Didnât Even See Comeyâs...</td>\n",
       "      <td>Darrell Lucus</td>\n",
       "      <td>House Dem Aide: We Didnât Even See Comeyâs...</td>\n",
       "      <td>1</td>\n",
       "    </tr>\n",
       "    <tr>\n",
       "      <td>1</td>\n",
       "      <td>1</td>\n",
       "      <td>FLYNN: Hillary Clinton, Big Woman on Campus - ...</td>\n",
       "      <td>Daniel J. Flynn</td>\n",
       "      <td>Ever get the feeling your life circles the rou...</td>\n",
       "      <td>0</td>\n",
       "    </tr>\n",
       "    <tr>\n",
       "      <td>2</td>\n",
       "      <td>2</td>\n",
       "      <td>Why the Truth Might Get You Fired</td>\n",
       "      <td>Consortiumnews.com</td>\n",
       "      <td>Why the Truth Might Get You Fired October 29, ...</td>\n",
       "      <td>1</td>\n",
       "    </tr>\n",
       "    <tr>\n",
       "      <td>3</td>\n",
       "      <td>3</td>\n",
       "      <td>15 Civilians Killed In Single US Airstrike Hav...</td>\n",
       "      <td>Jessica Purkiss</td>\n",
       "      <td>Videos 15 Civilians Killed In Single US Airstr...</td>\n",
       "      <td>1</td>\n",
       "    </tr>\n",
       "    <tr>\n",
       "      <td>4</td>\n",
       "      <td>4</td>\n",
       "      <td>Iranian woman jailed for fictional unpublished...</td>\n",
       "      <td>Howard Portnoy</td>\n",
       "      <td>Print \\nAn Iranian woman has been sentenced to...</td>\n",
       "      <td>1</td>\n",
       "    </tr>\n",
       "  </tbody>\n",
       "</table>\n",
       "</div>"
      ],
      "text/plain": [
       "   id                                              title              author  \\\n",
       "0   0  House Dem Aide: We Didnât Even See Comeyâs...       Darrell Lucus   \n",
       "1   1  FLYNN: Hillary Clinton, Big Woman on Campus - ...     Daniel J. Flynn   \n",
       "2   2                  Why the Truth Might Get You Fired  Consortiumnews.com   \n",
       "3   3  15 Civilians Killed In Single US Airstrike Hav...     Jessica Purkiss   \n",
       "4   4  Iranian woman jailed for fictional unpublished...      Howard Portnoy   \n",
       "\n",
       "                                                text  label  \n",
       "0  House Dem Aide: We Didnât Even See Comeyâs...      1  \n",
       "1  Ever get the feeling your life circles the rou...      0  \n",
       "2  Why the Truth Might Get You Fired October 29, ...      1  \n",
       "3  Videos 15 Civilians Killed In Single US Airstr...      1  \n",
       "4  Print \\nAn Iranian woman has been sentenced to...      1  "
      ]
     },
     "execution_count": 3,
     "metadata": {},
     "output_type": "execute_result"
    }
   ],
   "source": [
    "dataset.head()"
   ]
  },
  {
   "cell_type": "code",
   "execution_count": 4,
   "metadata": {},
   "outputs": [],
   "source": [
    "dataset['text']=dataset.text.astype(str)\n",
    "dataset['title']=dataset.text.astype(str)"
   ]
  },
  {
   "cell_type": "code",
   "execution_count": 5,
   "metadata": {},
   "outputs": [],
   "source": [
    "dataset['polarity']=dataset['text'].apply(lambda tweet:TextBlob(tweet).sentiment.polarity)"
   ]
  },
  {
   "cell_type": "code",
   "execution_count": 6,
   "metadata": {},
   "outputs": [],
   "source": [
    "dataset['subjectivity']=dataset['text'].apply(lambda tweet:TextBlob(tweet).sentiment.subjectivity)\n"
   ]
  },
  {
   "cell_type": "code",
   "execution_count": 7,
   "metadata": {},
   "outputs": [
    {
     "data": {
      "text/html": [
       "<div>\n",
       "<style scoped>\n",
       "    .dataframe tbody tr th:only-of-type {\n",
       "        vertical-align: middle;\n",
       "    }\n",
       "\n",
       "    .dataframe tbody tr th {\n",
       "        vertical-align: top;\n",
       "    }\n",
       "\n",
       "    .dataframe thead th {\n",
       "        text-align: right;\n",
       "    }\n",
       "</style>\n",
       "<table border=\"1\" class=\"dataframe\">\n",
       "  <thead>\n",
       "    <tr style=\"text-align: right;\">\n",
       "      <th></th>\n",
       "      <th>id</th>\n",
       "      <th>title</th>\n",
       "      <th>author</th>\n",
       "      <th>text</th>\n",
       "      <th>label</th>\n",
       "      <th>polarity</th>\n",
       "      <th>subjectivity</th>\n",
       "    </tr>\n",
       "  </thead>\n",
       "  <tbody>\n",
       "    <tr>\n",
       "      <td>0</td>\n",
       "      <td>0</td>\n",
       "      <td>House Dem Aide: We Didnât Even See Comeyâs...</td>\n",
       "      <td>Darrell Lucus</td>\n",
       "      <td>House Dem Aide: We Didnât Even See Comeyâs...</td>\n",
       "      <td>1</td>\n",
       "      <td>0.006898</td>\n",
       "      <td>0.489636</td>\n",
       "    </tr>\n",
       "    <tr>\n",
       "      <td>1</td>\n",
       "      <td>1</td>\n",
       "      <td>Ever get the feeling your life circles the rou...</td>\n",
       "      <td>Daniel J. Flynn</td>\n",
       "      <td>Ever get the feeling your life circles the rou...</td>\n",
       "      <td>0</td>\n",
       "      <td>0.106126</td>\n",
       "      <td>0.496322</td>\n",
       "    </tr>\n",
       "    <tr>\n",
       "      <td>2</td>\n",
       "      <td>2</td>\n",
       "      <td>Why the Truth Might Get You Fired October 29, ...</td>\n",
       "      <td>Consortiumnews.com</td>\n",
       "      <td>Why the Truth Might Get You Fired October 29, ...</td>\n",
       "      <td>1</td>\n",
       "      <td>0.044527</td>\n",
       "      <td>0.406205</td>\n",
       "    </tr>\n",
       "    <tr>\n",
       "      <td>3</td>\n",
       "      <td>3</td>\n",
       "      <td>Videos 15 Civilians Killed In Single US Airstr...</td>\n",
       "      <td>Jessica Purkiss</td>\n",
       "      <td>Videos 15 Civilians Killed In Single US Airstr...</td>\n",
       "      <td>1</td>\n",
       "      <td>0.017497</td>\n",
       "      <td>0.262625</td>\n",
       "    </tr>\n",
       "    <tr>\n",
       "      <td>4</td>\n",
       "      <td>4</td>\n",
       "      <td>Print \\nAn Iranian woman has been sentenced to...</td>\n",
       "      <td>Howard Portnoy</td>\n",
       "      <td>Print \\nAn Iranian woman has been sentenced to...</td>\n",
       "      <td>1</td>\n",
       "      <td>-0.012500</td>\n",
       "      <td>0.112500</td>\n",
       "    </tr>\n",
       "  </tbody>\n",
       "</table>\n",
       "</div>"
      ],
      "text/plain": [
       "   id                                              title              author  \\\n",
       "0   0  House Dem Aide: We Didnât Even See Comeyâs...       Darrell Lucus   \n",
       "1   1  Ever get the feeling your life circles the rou...     Daniel J. Flynn   \n",
       "2   2  Why the Truth Might Get You Fired October 29, ...  Consortiumnews.com   \n",
       "3   3  Videos 15 Civilians Killed In Single US Airstr...     Jessica Purkiss   \n",
       "4   4  Print \\nAn Iranian woman has been sentenced to...      Howard Portnoy   \n",
       "\n",
       "                                                text  label  polarity  \\\n",
       "0  House Dem Aide: We Didnât Even See Comeyâs...      1  0.006898   \n",
       "1  Ever get the feeling your life circles the rou...      0  0.106126   \n",
       "2  Why the Truth Might Get You Fired October 29, ...      1  0.044527   \n",
       "3  Videos 15 Civilians Killed In Single US Airstr...      1  0.017497   \n",
       "4  Print \\nAn Iranian woman has been sentenced to...      1 -0.012500   \n",
       "\n",
       "   subjectivity  \n",
       "0      0.489636  \n",
       "1      0.496322  \n",
       "2      0.406205  \n",
       "3      0.262625  \n",
       "4      0.112500  "
      ]
     },
     "execution_count": 7,
     "metadata": {},
     "output_type": "execute_result"
    }
   ],
   "source": [
    "dataset.head()"
   ]
  },
  {
   "cell_type": "code",
   "execution_count": 8,
   "metadata": {},
   "outputs": [],
   "source": [
    "#import dependencies\n",
    "%matplotlib inline\n",
    "import pandas as pd\n",
    "import numpy as np\n",
    "import nltk\n",
    "from nltk.corpus import stopwords\n",
    "import re\n",
    "from nltk.stem.porter import PorterStemmer\n",
    "import time\n",
    "from nltk import FreqDist\n",
    "from scipy.stats import entropy\n",
    "import matplotlib.pyplot as plt\n",
    "import seaborn as sns\n",
    "sns.set_style(\"darkgrid\")\n",
    "matplotlib.style.use('ggplot')\n",
    "from subprocess import check_output\n",
    "from nltk.tokenize import ToktokTokenizer\n",
    "toktok=ToktokTokenizer()"
   ]
  },
  {
   "cell_type": "code",
   "execution_count": 9,
   "metadata": {},
   "outputs": [
    {
     "data": {
      "text/html": [
       "<div>\n",
       "<style scoped>\n",
       "    .dataframe tbody tr th:only-of-type {\n",
       "        vertical-align: middle;\n",
       "    }\n",
       "\n",
       "    .dataframe tbody tr th {\n",
       "        vertical-align: top;\n",
       "    }\n",
       "\n",
       "    .dataframe thead th {\n",
       "        text-align: right;\n",
       "    }\n",
       "</style>\n",
       "<table border=\"1\" class=\"dataframe\">\n",
       "  <thead>\n",
       "    <tr style=\"text-align: right;\">\n",
       "      <th></th>\n",
       "      <th>id</th>\n",
       "      <th>title</th>\n",
       "      <th>author</th>\n",
       "      <th>text</th>\n",
       "      <th>label</th>\n",
       "      <th>polarity</th>\n",
       "      <th>subjectivity</th>\n",
       "    </tr>\n",
       "  </thead>\n",
       "  <tbody>\n",
       "    <tr>\n",
       "      <td>20795</td>\n",
       "      <td>20795</td>\n",
       "      <td>Rapper T. I. unloaded on black celebrities who...</td>\n",
       "      <td>Jerome Hudson</td>\n",
       "      <td>Rapper T. I. unloaded on black celebrities who...</td>\n",
       "      <td>0</td>\n",
       "      <td>0.059881</td>\n",
       "      <td>0.418214</td>\n",
       "    </tr>\n",
       "    <tr>\n",
       "      <td>20796</td>\n",
       "      <td>20796</td>\n",
       "      <td>When the Green Bay Packers lost to the Washing...</td>\n",
       "      <td>Benjamin Hoffman</td>\n",
       "      <td>When the Green Bay Packers lost to the Washing...</td>\n",
       "      <td>0</td>\n",
       "      <td>0.050297</td>\n",
       "      <td>0.413826</td>\n",
       "    </tr>\n",
       "    <tr>\n",
       "      <td>20797</td>\n",
       "      <td>20797</td>\n",
       "      <td>The Macyâs of today grew from the union of s...</td>\n",
       "      <td>Michael J. de la Merced and Rachel Abrams</td>\n",
       "      <td>The Macyâs of today grew from the union of s...</td>\n",
       "      <td>0</td>\n",
       "      <td>0.112540</td>\n",
       "      <td>0.466389</td>\n",
       "    </tr>\n",
       "    <tr>\n",
       "      <td>20798</td>\n",
       "      <td>20798</td>\n",
       "      <td>NATO, Russia To Hold Parallel Exercises In Bal...</td>\n",
       "      <td>Alex Ansary</td>\n",
       "      <td>NATO, Russia To Hold Parallel Exercises In Bal...</td>\n",
       "      <td>1</td>\n",
       "      <td>-0.019426</td>\n",
       "      <td>0.209632</td>\n",
       "    </tr>\n",
       "    <tr>\n",
       "      <td>20799</td>\n",
       "      <td>20799</td>\n",
       "      <td>David Swanson is an author, activist, journa...</td>\n",
       "      <td>David Swanson</td>\n",
       "      <td>David Swanson is an author, activist, journa...</td>\n",
       "      <td>1</td>\n",
       "      <td>0.077487</td>\n",
       "      <td>0.449643</td>\n",
       "    </tr>\n",
       "  </tbody>\n",
       "</table>\n",
       "</div>"
      ],
      "text/plain": [
       "          id                                              title  \\\n",
       "20795  20795  Rapper T. I. unloaded on black celebrities who...   \n",
       "20796  20796  When the Green Bay Packers lost to the Washing...   \n",
       "20797  20797  The Macyâs of today grew from the union of s...   \n",
       "20798  20798  NATO, Russia To Hold Parallel Exercises In Bal...   \n",
       "20799  20799    David Swanson is an author, activist, journa...   \n",
       "\n",
       "                                          author  \\\n",
       "20795                              Jerome Hudson   \n",
       "20796                           Benjamin Hoffman   \n",
       "20797  Michael J. de la Merced and Rachel Abrams   \n",
       "20798                                Alex Ansary   \n",
       "20799                              David Swanson   \n",
       "\n",
       "                                                    text  label  polarity  \\\n",
       "20795  Rapper T. I. unloaded on black celebrities who...      0  0.059881   \n",
       "20796  When the Green Bay Packers lost to the Washing...      0  0.050297   \n",
       "20797  The Macyâs of today grew from the union of s...      0  0.112540   \n",
       "20798  NATO, Russia To Hold Parallel Exercises In Bal...      1 -0.019426   \n",
       "20799    David Swanson is an author, activist, journa...      1  0.077487   \n",
       "\n",
       "       subjectivity  \n",
       "20795      0.418214  \n",
       "20796      0.413826  \n",
       "20797      0.466389  \n",
       "20798      0.209632  \n",
       "20799      0.449643  "
      ]
     },
     "execution_count": 9,
     "metadata": {},
     "output_type": "execute_result"
    }
   ],
   "source": [
    "df=dataset\n",
    "df.head()\n",
    "df.tail()"
   ]
  },
  {
   "cell_type": "code",
   "execution_count": 10,
   "metadata": {},
   "outputs": [],
   "source": [
    "import re\n",
    "def initial_clean(text):\n",
    "    \"\"\"\n",
    "    Function to clear text of websites,email addresses and any punctuation\n",
    "    We also lower case the text\n",
    "    \"\"\"\n",
    "    text=re.sub(\"((\\S+)?(http(s)?)(\\S+))|((\\S+)?(www)(\\S+))|((\\S+)?(\\@)(\\S+)?)\",\" \",text)\n",
    "    text=re.sub(\"[^a-zA-Z]\",\" \",text)\n",
    "    text=text.lower()\n",
    "    #text=nltk.word_tokenize(text)\n",
    "    text=toktok.tokenize(text)\n",
    "    return text\n",
    "stop_words=stopwords.words('english')\n",
    "def remove_stop_words(text):\n",
    "    '''\n",
    "    Function that removes all stopwords from text\n",
    "    '''\n",
    "    return [word for word in text if word not in stop_words]\n",
    "stemmer=PorterStemmer()\n",
    "def stem_words(text):\n",
    "    '''\n",
    "    Function to stem words so that plural and singular are treated the same\n",
    "    '''\n",
    "    try:\n",
    "        text=[stemmer.stem(word) for word in text]\n",
    "        text=[word for word in text if len(word)>1] #make sure we have no 1 letter words\n",
    "    except IndexError: #the word 'oed' broke this,so needed try except\n",
    "        pass\n",
    "    return text\n",
    "def apply_all(text):\n",
    "    '''\n",
    "    This function applies all the function above into one\n",
    "    '''\n",
    "    return stem_words(remove_stop_words(initial_clean(text)))"
   ]
  },
  {
   "cell_type": "code",
   "execution_count": 11,
   "metadata": {},
   "outputs": [],
   "source": [
    "df['title']=df.title.astype(str)"
   ]
  },
  {
   "cell_type": "code",
   "execution_count": 12,
   "metadata": {},
   "outputs": [
    {
     "name": "stdout",
     "output_type": "stream",
     "text": [
      "Time to clean and tokenize 20800 articles:  12.663075383504232 min\n"
     ]
    }
   ],
   "source": [
    "#clean text and title and create new column 'tokenized'\n",
    "import time\n",
    "t1=time.time()\n",
    "df['tokenized']=df['text'].apply(apply_all) + df['title'].apply(apply_all)\n",
    "t2=time.time()\n",
    "print(\"Time to clean and tokenize\",len(df),\"articles: \",(t2-t1)/60,\"min\")\n"
   ]
  },
  {
   "cell_type": "code",
   "execution_count": 13,
   "metadata": {},
   "outputs": [
    {
     "data": {
      "text/plain": [
       "0        [hous, dem, aid, even, see, comey, letter, jas...\n",
       "1        [ever, get, feel, life, circl, roundabout, rat...\n",
       "2        [truth, might, get, fire, octob, tension, inte...\n",
       "3        [video, civilian, kill, singl, us, airstrik, i...\n",
       "4        [print, iranian, woman, sentenc, six, year, pr...\n",
       "                               ...                        \n",
       "20795    [rapper, unload, black, celebr, met, donald, t...\n",
       "20796    [green, bay, packer, lost, washington, redskin...\n",
       "20797    [maci, today, grew, union, sever, great, name,...\n",
       "20798    [nato, russia, hold, parallel, exercis, balkan...\n",
       "20799    [david, swanson, author, activist, journalist,...\n",
       "Name: tokenized, Length: 20800, dtype: object"
      ]
     },
     "execution_count": 13,
     "metadata": {},
     "output_type": "execute_result"
    }
   ],
   "source": [
    "df['tokenized']"
   ]
  },
  {
   "cell_type": "code",
   "execution_count": 14,
   "metadata": {},
   "outputs": [
    {
     "data": {
      "text/plain": [
       "\"#first get a list of all words\\nall_words=[word for item in list(df['tokenized']) for word in item]\\n#use nltk fdist to get a frequency distribution of all words\\nfdist=FreqDist(all_words)\\nlen(fdist) #number of unique words\\n\""
      ]
     },
     "execution_count": 14,
     "metadata": {},
     "output_type": "execute_result"
    }
   ],
   "source": []
  },
  {
   "cell_type": "code",
   "execution_count": 15,
   "metadata": {},
   "outputs": [
    {
     "data": {
      "text/plain": [
       "'k=2500\\ntop_k_words=fdist.most_common(k)\\ntop_k_words[-10:]\\n'"
      ]
     },
     "execution_count": 15,
     "metadata": {},
     "output_type": "execute_result"
    }
   ],
   "source": []
  },
  {
   "cell_type": "code",
   "execution_count": 16,
   "metadata": {},
   "outputs": [
    {
     "data": {
      "text/plain": [
       "\"\\n#define a function only to keep words in the top k words\\ntop_k_words,_=zip(*fdist.most_common(k))\\ntop_k_words=set(top_k_words)\\ndef keep_top_k_words(text):\\n    return[word for word in text if word in top_k_words]\\ndf['tokenized']=df['tokenized'].apply(keep_top_k_words)\\n\""
      ]
     },
     "execution_count": 16,
     "metadata": {},
     "output_type": "execute_result"
    }
   ],
   "source": []
  },
  {
   "cell_type": "code",
   "execution_count": 17,
   "metadata": {},
   "outputs": [
    {
     "name": "stdout",
     "output_type": "stream",
     "text": [
      "length of list:  20800 \n",
      "average document length 827.0342307692308 \n",
      "minimum document length 0 \n",
      "maximum document length 23918\n",
      "850.0\n"
     ]
    }
   ],
   "source": [
    "#document length\n",
    "df['doc_len']=df['tokenized'].apply(lambda x:len(x))\n",
    "doc_lengths=list(df['doc_len'])\n",
    "df.drop(labels='doc_len',axis=1,inplace=True)\n",
    "print(\"length of list: \",len(doc_lengths),\n",
    "     \"\\naverage document length\",np.average(doc_lengths),\n",
    "     \"\\nminimum document length\",min(doc_lengths),\n",
    "     \"\\nmaximum document length\",max(doc_lengths))\n",
    "from scipy.stats import iqr\n",
    "print(iqr(doc_lengths))"
   ]
  },
  {
   "cell_type": "code",
   "execution_count": 18,
   "metadata": {},
   "outputs": [
    {
     "name": "stderr",
     "output_type": "stream",
     "text": [
      "D:\\Anaconda\\lib\\site-packages\\ipykernel_launcher.py:6: MatplotlibDeprecationWarning: \n",
      "The 'normed' kwarg was deprecated in Matplotlib 2.1 and will be removed in 3.1. Use 'density' instead.\n",
      "  \n"
     ]
    },
    {
     "data": {
      "image/png": "[encoded data removed]",
      "text/plain": [
       "<Figure size 864x432 with 1 Axes>"
      ]
     },
     "metadata": {},
     "output_type": "display_data"
    }
   ],
   "source": [
    "#plot a histogram of document length\n",
    "#bins=max-min/h where h=2xIQRxn^-(1/3)\n",
    "num_bins=1000\n",
    "fig,ax=plt.subplots(figsize=(12,6))\n",
    "#the histogram of the data\n",
    "n,bins,patches =ax.hist(doc_lengths,num_bins,normed=1)\n",
    "ax.set_xlabel('Document Length(tokens)',fontsize=15)\n",
    "ax.set_ylabel('Normed Frequency',fontsize=15)\n",
    "ax.grid()\n",
    "ax.set_xticks(np.logspace(start=np.log10(50),stop=np.log10(2000),num=8,base=10.0))\n",
    "plt.xlim(0,2000)\n",
    "ax.plot([np.average(doc_lengths) for i in np.linspace(0.0,0.0025,100)],np.linspace(0.0,0.0025,100),label='Average doc length')\n",
    "ax.legend()\n",
    "ax.grid()\n",
    "fig.tight_layout()\n",
    "plt.show()"
   ]
  },
  {
   "cell_type": "code",
   "execution_count": 19,
   "metadata": {},
   "outputs": [
    {
     "name": "stdout",
     "output_type": "stream",
     "text": [
      "After cleaning and excluding short articles, the dataframe now has:  20093 articles\n"
     ]
    },
    {
     "data": {
      "text/html": [
       "<div>\n",
       "<style scoped>\n",
       "    .dataframe tbody tr th:only-of-type {\n",
       "        vertical-align: middle;\n",
       "    }\n",
       "\n",
       "    .dataframe tbody tr th {\n",
       "        vertical-align: top;\n",
       "    }\n",
       "\n",
       "    .dataframe thead th {\n",
       "        text-align: right;\n",
       "    }\n",
       "</style>\n",
       "<table border=\"1\" class=\"dataframe\">\n",
       "  <thead>\n",
       "    <tr style=\"text-align: right;\">\n",
       "      <th></th>\n",
       "      <th>id</th>\n",
       "      <th>title</th>\n",
       "      <th>author</th>\n",
       "      <th>text</th>\n",
       "      <th>label</th>\n",
       "      <th>polarity</th>\n",
       "      <th>subjectivity</th>\n",
       "      <th>tokenized</th>\n",
       "    </tr>\n",
       "  </thead>\n",
       "  <tbody>\n",
       "    <tr>\n",
       "      <td>0</td>\n",
       "      <td>0</td>\n",
       "      <td>House Dem Aide: We Didnât Even See Comeyâs...</td>\n",
       "      <td>Darrell Lucus</td>\n",
       "      <td>House Dem Aide: We Didnât Even See Comeyâs...</td>\n",
       "      <td>1</td>\n",
       "      <td>0.006898</td>\n",
       "      <td>0.489636</td>\n",
       "      <td>[hous, dem, aid, even, see, comey, letter, jas...</td>\n",
       "    </tr>\n",
       "    <tr>\n",
       "      <td>1</td>\n",
       "      <td>1</td>\n",
       "      <td>Ever get the feeling your life circles the rou...</td>\n",
       "      <td>Daniel J. Flynn</td>\n",
       "      <td>Ever get the feeling your life circles the rou...</td>\n",
       "      <td>0</td>\n",
       "      <td>0.106126</td>\n",
       "      <td>0.496322</td>\n",
       "      <td>[ever, get, feel, life, circl, roundabout, rat...</td>\n",
       "    </tr>\n",
       "    <tr>\n",
       "      <td>2</td>\n",
       "      <td>2</td>\n",
       "      <td>Why the Truth Might Get You Fired October 29, ...</td>\n",
       "      <td>Consortiumnews.com</td>\n",
       "      <td>Why the Truth Might Get You Fired October 29, ...</td>\n",
       "      <td>1</td>\n",
       "      <td>0.044527</td>\n",
       "      <td>0.406205</td>\n",
       "      <td>[truth, might, get, fire, octob, tension, inte...</td>\n",
       "    </tr>\n",
       "    <tr>\n",
       "      <td>3</td>\n",
       "      <td>3</td>\n",
       "      <td>Videos 15 Civilians Killed In Single US Airstr...</td>\n",
       "      <td>Jessica Purkiss</td>\n",
       "      <td>Videos 15 Civilians Killed In Single US Airstr...</td>\n",
       "      <td>1</td>\n",
       "      <td>0.017497</td>\n",
       "      <td>0.262625</td>\n",
       "      <td>[video, civilian, kill, singl, us, airstrik, i...</td>\n",
       "    </tr>\n",
       "    <tr>\n",
       "      <td>4</td>\n",
       "      <td>4</td>\n",
       "      <td>Print \\nAn Iranian woman has been sentenced to...</td>\n",
       "      <td>Howard Portnoy</td>\n",
       "      <td>Print \\nAn Iranian woman has been sentenced to...</td>\n",
       "      <td>1</td>\n",
       "      <td>-0.012500</td>\n",
       "      <td>0.112500</td>\n",
       "      <td>[print, iranian, woman, sentenc, six, year, pr...</td>\n",
       "    </tr>\n",
       "  </tbody>\n",
       "</table>\n",
       "</div>"
      ],
      "text/plain": [
       "   id                                              title              author  \\\n",
       "0   0  House Dem Aide: We Didnât Even See Comeyâs...       Darrell Lucus   \n",
       "1   1  Ever get the feeling your life circles the rou...     Daniel J. Flynn   \n",
       "2   2  Why the Truth Might Get You Fired October 29, ...  Consortiumnews.com   \n",
       "3   3  Videos 15 Civilians Killed In Single US Airstr...     Jessica Purkiss   \n",
       "4   4  Print \\nAn Iranian woman has been sentenced to...      Howard Portnoy   \n",
       "\n",
       "                                                text  label  polarity  \\\n",
       "0  House Dem Aide: We Didnât Even See Comeyâs...      1  0.006898   \n",
       "1  Ever get the feeling your life circles the rou...      0  0.106126   \n",
       "2  Why the Truth Might Get You Fired October 29, ...      1  0.044527   \n",
       "3  Videos 15 Civilians Killed In Single US Airstr...      1  0.017497   \n",
       "4  Print \\nAn Iranian woman has been sentenced to...      1 -0.012500   \n",
       "\n",
       "   subjectivity                                          tokenized  \n",
       "0      0.489636  [hous, dem, aid, even, see, comey, letter, jas...  \n",
       "1      0.496322  [ever, get, feel, life, circl, roundabout, rat...  \n",
       "2      0.406205  [truth, might, get, fire, octob, tension, inte...  \n",
       "3      0.262625  [video, civilian, kill, singl, us, airstrik, i...  \n",
       "4      0.112500  [print, iranian, woman, sentenc, six, year, pr...  "
      ]
     },
     "execution_count": 19,
     "metadata": {},
     "output_type": "execute_result"
    }
   ],
   "source": [
    "#only keep articles with more than 25 tokens,otherwise too short\n",
    "df=df[df['tokenized'].map(len)>=25]\n",
    "#make sure all tokenized items are lists\n",
    "df=df[df['tokenized'].map(type)==list]\n",
    "df.reset_index(drop=True,inplace=True)\n",
    "print(\"After cleaning and excluding short articles, the dataframe now has: \",len(df),\"articles\")\n",
    "df.head()"
   ]
  },
  {
   "cell_type": "code",
   "execution_count": null,
   "metadata": {},
   "outputs": [],
   "source": []
  },
  {
   "cell_type": "code",
   "execution_count": 20,
   "metadata": {},
   "outputs": [
    {
     "data": {
      "text/html": [
       "<div>\n",
       "<style scoped>\n",
       "    .dataframe tbody tr th:only-of-type {\n",
       "        vertical-align: middle;\n",
       "    }\n",
       "\n",
       "    .dataframe tbody tr th {\n",
       "        vertical-align: top;\n",
       "    }\n",
       "\n",
       "    .dataframe thead th {\n",
       "        text-align: right;\n",
       "    }\n",
       "</style>\n",
       "<table border=\"1\" class=\"dataframe\">\n",
       "  <thead>\n",
       "    <tr style=\"text-align: right;\">\n",
       "      <th></th>\n",
       "      <th>id</th>\n",
       "      <th>title</th>\n",
       "      <th>author</th>\n",
       "      <th>text</th>\n",
       "      <th>label</th>\n",
       "      <th>polarity</th>\n",
       "      <th>subjectivity</th>\n",
       "      <th>tokenized</th>\n",
       "    </tr>\n",
       "  </thead>\n",
       "  <tbody>\n",
       "    <tr>\n",
       "      <td>5972</td>\n",
       "      <td>6192</td>\n",
       "      <td>Russia, facing deepening scrutiny over accusat...</td>\n",
       "      <td>Mike McPhate</td>\n",
       "      <td>Russia, facing deepening scrutiny over accusat...</td>\n",
       "      <td>0</td>\n",
       "      <td>0.008319</td>\n",
       "      <td>0.363958</td>\n",
       "      <td>[russia, face, deepen, scrutini, accus, orches...</td>\n",
       "    </tr>\n",
       "    <tr>\n",
       "      <td>19410</td>\n",
       "      <td>20097</td>\n",
       "      <td>Few actresses are more likable than Emma Stone...</td>\n",
       "      <td>Bee Shapiro</td>\n",
       "      <td>Few actresses are more likable than Emma Stone...</td>\n",
       "      <td>0</td>\n",
       "      <td>0.156847</td>\n",
       "      <td>0.435389</td>\n",
       "      <td>[actress, likabl, emma, stone, spunki, talent,...</td>\n",
       "    </tr>\n",
       "    <tr>\n",
       "      <td>2191</td>\n",
       "      <td>2273</td>\n",
       "      <td>Show up at the polls and vote for Donald Trump...</td>\n",
       "      <td>Ronnie Allen</td>\n",
       "      <td>Show up at the polls and vote for Donald Trump...</td>\n",
       "      <td>1</td>\n",
       "      <td>0.300000</td>\n",
       "      <td>0.485185</td>\n",
       "      <td>[show, poll, vote, donald, trump, make, sure, ...</td>\n",
       "    </tr>\n",
       "    <tr>\n",
       "      <td>19861</td>\n",
       "      <td>20562</td>\n",
       "      <td>During Fridayâs Weekly Address, President Do...</td>\n",
       "      <td>Trent Baker</td>\n",
       "      <td>During Fridayâs Weekly Address, President Do...</td>\n",
       "      <td>0</td>\n",
       "      <td>0.151979</td>\n",
       "      <td>0.438411</td>\n",
       "      <td>[friday, weekli, address, presid, donald, trum...</td>\n",
       "    </tr>\n",
       "    <tr>\n",
       "      <td>4698</td>\n",
       "      <td>4879</td>\n",
       "      <td>Blair Rollin: Nice quote from The China Study....</td>\n",
       "      <td>Michael Greger M.D. FACLM</td>\n",
       "      <td>Blair Rollin: Nice quote from The China Study....</td>\n",
       "      <td>1</td>\n",
       "      <td>0.122649</td>\n",
       "      <td>0.504764</td>\n",
       "      <td>[blair, rollin, nice, quot, china, studi, forg...</td>\n",
       "    </tr>\n",
       "  </tbody>\n",
       "</table>\n",
       "</div>"
      ],
      "text/plain": [
       "          id                                              title  \\\n",
       "5972    6192  Russia, facing deepening scrutiny over accusat...   \n",
       "19410  20097  Few actresses are more likable than Emma Stone...   \n",
       "2191    2273  Show up at the polls and vote for Donald Trump...   \n",
       "19861  20562  During Fridayâs Weekly Address, President Do...   \n",
       "4698    4879  Blair Rollin: Nice quote from The China Study....   \n",
       "\n",
       "                          author  \\\n",
       "5972                Mike McPhate   \n",
       "19410                Bee Shapiro   \n",
       "2191                Ronnie Allen   \n",
       "19861                Trent Baker   \n",
       "4698   Michael Greger M.D. FACLM   \n",
       "\n",
       "                                                    text  label  polarity  \\\n",
       "5972   Russia, facing deepening scrutiny over accusat...      0  0.008319   \n",
       "19410  Few actresses are more likable than Emma Stone...      0  0.156847   \n",
       "2191   Show up at the polls and vote for Donald Trump...      1  0.300000   \n",
       "19861  During Fridayâs Weekly Address, President Do...      0  0.151979   \n",
       "4698   Blair Rollin: Nice quote from The China Study....      1  0.122649   \n",
       "\n",
       "       subjectivity                                          tokenized  \n",
       "5972       0.363958  [russia, face, deepen, scrutini, accus, orches...  \n",
       "19410      0.435389  [actress, likabl, emma, stone, spunki, talent,...  \n",
       "2191       0.485185  [show, poll, vote, donald, trump, make, sure, ...  \n",
       "19861      0.438411  [friday, weekli, address, presid, donald, trum...  \n",
       "4698       0.504764  [blair, rollin, nice, quot, china, studi, forg...  "
      ]
     },
     "execution_count": 20,
     "metadata": {},
     "output_type": "execute_result"
    }
   ],
   "source": [
    "from sklearn.model_selection import train_test_split\n",
    "train,test=train_test_split(df,test_size=0.2)\n",
    "from nltk.corpus import stopwords\n",
    "train.columns.values\n",
    "train.head()"
   ]
  },
  {
   "cell_type": "code",
   "execution_count": 21,
   "metadata": {},
   "outputs": [
    {
     "name": "stderr",
     "output_type": "stream",
     "text": [
      "D:\\Anaconda\\lib\\site-packages\\ipykernel_launcher.py:1: SettingWithCopyWarning: \n",
      "A value is trying to be set on a copy of a slice from a DataFrame.\n",
      "Try using .loc[row_indexer,col_indexer] = value instead\n",
      "\n",
      "See the caveats in the documentation: http://pandas.pydata.org/pandas-docs/stable/user_guide/indexing.html#returning-a-view-versus-a-copy\n",
      "  \"\"\"Entry point for launching an IPython kernel.\n",
      "D:\\Anaconda\\lib\\site-packages\\ipykernel_launcher.py:2: SettingWithCopyWarning: \n",
      "A value is trying to be set on a copy of a slice from a DataFrame.\n",
      "Try using .loc[row_indexer,col_indexer] = value instead\n",
      "\n",
      "See the caveats in the documentation: http://pandas.pydata.org/pandas-docs/stable/user_guide/indexing.html#returning-a-view-versus-a-copy\n",
      "  \n",
      "D:\\Anaconda\\lib\\site-packages\\ipykernel_launcher.py:3: SettingWithCopyWarning: \n",
      "A value is trying to be set on a copy of a slice from a DataFrame.\n",
      "Try using .loc[row_indexer,col_indexer] = value instead\n",
      "\n",
      "See the caveats in the documentation: http://pandas.pydata.org/pandas-docs/stable/user_guide/indexing.html#returning-a-view-versus-a-copy\n",
      "  This is separate from the ipykernel package so we can avoid doing imports until\n",
      "D:\\Anaconda\\lib\\site-packages\\ipykernel_launcher.py:4: SettingWithCopyWarning: \n",
      "A value is trying to be set on a copy of a slice from a DataFrame.\n",
      "Try using .loc[row_indexer,col_indexer] = value instead\n",
      "\n",
      "See the caveats in the documentation: http://pandas.pydata.org/pandas-docs/stable/user_guide/indexing.html#returning-a-view-versus-a-copy\n",
      "  after removing the cwd from sys.path.\n",
      "D:\\Anaconda\\lib\\site-packages\\pandas\\core\\generic.py:6287: SettingWithCopyWarning: \n",
      "A value is trying to be set on a copy of a slice from a DataFrame\n",
      "\n",
      "See the caveats in the documentation: http://pandas.pydata.org/pandas-docs/stable/user_guide/indexing.html#returning-a-view-versus-a-copy\n",
      "  self._update_inplace(new_data)\n",
      "D:\\Anaconda\\lib\\site-packages\\ipykernel_launcher.py:13: SettingWithCopyWarning: \n",
      "A value is trying to be set on a copy of a slice from a DataFrame.\n",
      "Try using .loc[row_indexer,col_indexer] = value instead\n",
      "\n",
      "See the caveats in the documentation: http://pandas.pydata.org/pandas-docs/stable/user_guide/indexing.html#returning-a-view-versus-a-copy\n",
      "  del sys.path[0]\n",
      "D:\\Anaconda\\lib\\site-packages\\ipykernel_launcher.py:15: SettingWithCopyWarning: \n",
      "A value is trying to be set on a copy of a slice from a DataFrame.\n",
      "Try using .loc[row_indexer,col_indexer] = value instead\n",
      "\n",
      "See the caveats in the documentation: http://pandas.pydata.org/pandas-docs/stable/user_guide/indexing.html#returning-a-view-versus-a-copy\n",
      "  from ipykernel import kernelapp as app\n",
      "D:\\Anaconda\\lib\\site-packages\\ipykernel_launcher.py:17: SettingWithCopyWarning: \n",
      "A value is trying to be set on a copy of a slice from a DataFrame.\n",
      "Try using .loc[row_indexer,col_indexer] = value instead\n",
      "\n",
      "See the caveats in the documentation: http://pandas.pydata.org/pandas-docs/stable/user_guide/indexing.html#returning-a-view-versus-a-copy\n",
      "D:\\Anaconda\\lib\\site-packages\\ipykernel_launcher.py:19: SettingWithCopyWarning: \n",
      "A value is trying to be set on a copy of a slice from a DataFrame.\n",
      "Try using .loc[row_indexer,col_indexer] = value instead\n",
      "\n",
      "See the caveats in the documentation: http://pandas.pydata.org/pandas-docs/stable/user_guide/indexing.html#returning-a-view-versus-a-copy\n"
     ]
    }
   ],
   "source": [
    "train['text']=df.text.astype(str)\n",
    "train['title']=df.title.astype(str)\n",
    "test['text']=df.text.astype(str)\n",
    "test['title']=df.title.astype(str)\n",
    "import re\n",
    "def refineWords(s):\n",
    "    letters_only=re.sub(\"[^a-zA-Z]\",\" \",s)\n",
    "    words=letters_only.lower().split()\n",
    "    stops=set(stopwords.words(\"english\"))\n",
    "    meaningful_words=[W for W in words if not W in stops]\n",
    "    return(\" \".join(meaningful_words))\n",
    "train[\"text\"].fillna(\" \",inplace=True)\n",
    "train[\"text\"]=train[\"text\"].apply(refineWords)\n",
    "train[\"title\"].fillna(\" \",inplace=True)\n",
    "train[\"title\"]=train[\"title\"].apply(refineWords)\n",
    "test[\"title\"].fillna(\" \",inplace=True)\n",
    "test[\"title\"]=test[\"title\"].apply(refineWords)\n",
    "test[\"text\"].fillna(\" \",inplace=True)\n",
    "test[\"text\"]=test[\"text\"].apply(refineWords)"
   ]
  },
  {
   "cell_type": "code",
   "execution_count": 22,
   "metadata": {},
   "outputs": [
    {
     "name": "stderr",
     "output_type": "stream",
     "text": [
      "D:\\Anaconda\\lib\\site-packages\\ipykernel_launcher.py:6: SettingWithCopyWarning: \n",
      "A value is trying to be set on a copy of a slice from a DataFrame.\n",
      "Try using .loc[row_indexer,col_indexer] = value instead\n",
      "\n",
      "See the caveats in the documentation: http://pandas.pydata.org/pandas-docs/stable/user_guide/indexing.html#returning-a-view-versus-a-copy\n",
      "  \n",
      "D:\\Anaconda\\lib\\site-packages\\ipykernel_launcher.py:7: SettingWithCopyWarning: \n",
      "A value is trying to be set on a copy of a slice from a DataFrame.\n",
      "Try using .loc[row_indexer,col_indexer] = value instead\n",
      "\n",
      "See the caveats in the documentation: http://pandas.pydata.org/pandas-docs/stable/user_guide/indexing.html#returning-a-view-versus-a-copy\n",
      "  import sys\n",
      "D:\\Anaconda\\lib\\site-packages\\ipykernel_launcher.py:9: SettingWithCopyWarning: \n",
      "A value is trying to be set on a copy of a slice from a DataFrame.\n",
      "Try using .loc[row_indexer,col_indexer] = value instead\n",
      "\n",
      "See the caveats in the documentation: http://pandas.pydata.org/pandas-docs/stable/user_guide/indexing.html#returning-a-view-versus-a-copy\n",
      "  if __name__ == '__main__':\n",
      "D:\\Anaconda\\lib\\site-packages\\ipykernel_launcher.py:10: SettingWithCopyWarning: \n",
      "A value is trying to be set on a copy of a slice from a DataFrame.\n",
      "Try using .loc[row_indexer,col_indexer] = value instead\n",
      "\n",
      "See the caveats in the documentation: http://pandas.pydata.org/pandas-docs/stable/user_guide/indexing.html#returning-a-view-versus-a-copy\n",
      "  # Remove the CWD from sys.path while we load stuff.\n"
     ]
    }
   ],
   "source": [
    "\n",
    "from sklearn.feature_extraction.text import CountVectorizer\n",
    "vectorizer=CountVectorizer(analyzer=\"word\",tokenizer=None,preprocessor=None,stop_words=None,max_features=8000)\n",
    "#print(train_one[\"title\"].head())\n",
    "#temp=(vectorizer.fit_transform(train_one[\"text\"]))\n",
    "#train_one[\"text\"]=temp.to_array()\n",
    "train[\"text\"]=vectorizer.fit_transform(train[\"text\"]).toarray()\n",
    "train[\"title\"]=vectorizer.fit_transform(train[\"title\"]).toarray()\n",
    "train.head()\n",
    "test[\"text\"]=vectorizer.fit_transform(test[\"text\"]).toarray()\n",
    "test[\"title\"]=vectorizer.fit_transform(test[\"title\"]).toarray()"
   ]
  },
  {
   "cell_type": "code",
   "execution_count": null,
   "metadata": {},
   "outputs": [],
   "source": []
  },
  {
   "cell_type": "code",
   "execution_count": 35,
   "metadata": {},
   "outputs": [],
   "source": [
    "\n",
    "from sklearn.ensemble import RandomForestClassifier\n",
    "forest=RandomForestClassifier(max_depth=15,n_estimators=200,random_state=65)\n",
    "x_train=train[[\"text\",\"title\",\"polarity\",\"subjectivity\"]].values\n",
    "y_train=train[\"label\"]\n",
    "modelRF=forest.fit(x_train,y_train)"
   ]
  },
  {
   "cell_type": "code",
   "execution_count": 36,
   "metadata": {},
   "outputs": [],
   "source": [
    "x_test=test[[\"text\",\"title\",\"polarity\",\"subjectivity\"]].values\n",
    "y_test=test[\"label\"]\n",
    "y_pred=modelRF.predict(x_test)"
   ]
  },
  {
   "cell_type": "code",
   "execution_count": 37,
   "metadata": {},
   "outputs": [
    {
     "name": "stdout",
     "output_type": "stream",
     "text": [
      "Accuracy of Prediction by Random Forest 59.84075640706643 %\n",
      "              precision    recall  f1-score   support\n",
      "\n",
      "           0       0.59      0.72      0.65      2062\n",
      "           1       0.62      0.47      0.53      1957\n",
      "\n",
      "    accuracy                           0.60      4019\n",
      "   macro avg       0.60      0.60      0.59      4019\n",
      "weighted avg       0.60      0.60      0.59      4019\n",
      "\n"
     ]
    },
    {
     "data": {
      "text/plain": [
       "(1.8, 0.2)"
      ]
     },
     "execution_count": 37,
     "metadata": {},
     "output_type": "execute_result"
    },
    {
     "data": {
      "image/png": "[encoded data removed]",
      "text/plain": [
       "<Figure size 432x288 with 1 Axes>"
      ]
     },
     "metadata": {},
     "output_type": "display_data"
    }
   ],
   "source": [
    "from sklearn.metrics import accuracy_score,confusion_matrix,classification_report\n",
    "print(\"Accuracy of Prediction by Random Forest \"+str(accuracy_score(y_test,y_pred)*100)+\" %\")\n",
    "from sklearn.metrics import confusion_matrix\n",
    "matrix1=confusion_matrix(y_test,y_pred)\n",
    "import seaborn as sns\n",
    "plt.title('Confusion Matrix for Random Forest')\n",
    "print(classification_report(y_test,y_pred))\n",
    "x_labels=[1,0]\n",
    "y_labels=[1,0]\n",
    "ax=sns.heatmap(matrix1,xticklabels=x_labels,yticklabels=y_labels,annot=True,fmt='g',cbar=False)\n",
    "ax.set_ylim(1.8,0.2)"
   ]
  },
  {
   "cell_type": "code",
   "execution_count": 41,
   "metadata": {},
   "outputs": [
    {
     "name": "stdout",
     "output_type": "stream",
     "text": [
      "Accuracy of Prediction by Naive Bayes 59.492411047524264 %\n",
      "              precision    recall  f1-score   support\n",
      "\n",
      "           0       0.59      0.68      0.63      2062\n",
      "           1       0.60      0.50      0.55      1957\n",
      "\n",
      "    accuracy                           0.59      4019\n",
      "   macro avg       0.60      0.59      0.59      4019\n",
      "weighted avg       0.60      0.59      0.59      4019\n",
      "\n"
     ]
    },
    {
     "data": {
      "text/plain": [
       "(1.8, 0.2)"
      ]
     },
     "execution_count": 41,
     "metadata": {},
     "output_type": "execute_result"
    },
    {
     "data": {
      "image/png": "[encoded data removed]",
      "text/plain": [
       "<Figure size 432x288 with 1 Axes>"
      ]
     },
     "metadata": {},
     "output_type": "display_data"
    }
   ],
   "source": [
    "from sklearn.naive_bayes import GaussianNB\n",
    "gnb=GaussianNB()\n",
    "gnb.fit(x_train,y_train)\n",
    "y_pred1=gnb.predict(x_test)\n",
    "matrix2=confusion_matrix(y_test,y_pred1)\n",
    "print(\"Accuracy of Prediction by Naive Bayes \"+str(accuracy_score(y_test,y_pred1)*100)+\" %\")\n",
    "plt.title('Confusion Matrix for Naive Bayes')\n",
    "print(classification_report(y_test,y_pred1))\n",
    "ax=sns.heatmap(matrix2,xticklabels=x_labels,yticklabels=y_labels,annot=True,fmt='g',cbar=False)\n",
    "ax.set_ylim(1.8,0.2)"
   ]
  },
  {
   "cell_type": "code",
   "execution_count": 27,
   "metadata": {},
   "outputs": [
    {
     "name": "stdout",
     "output_type": "stream",
     "text": [
      "Accuracy of Prediction by Support Vector Machine(SVM) 55.088330430455336 %\n",
      "              precision    recall  f1-score   support\n",
      "\n",
      "           0       0.54      0.95      0.68      2062\n",
      "           1       0.70      0.13      0.23      1957\n",
      "\n",
      "    accuracy                           0.55      4019\n",
      "   macro avg       0.62      0.54      0.45      4019\n",
      "weighted avg       0.62      0.55      0.46      4019\n",
      "\n"
     ]
    },
    {
     "data": {
      "text/plain": [
       "(1.8, 0.2)"
      ]
     },
     "execution_count": 27,
     "metadata": {},
     "output_type": "execute_result"
    },
    {
     "data": {
      "image/png": "[encoded data removed]",
      "text/plain": [
       "<Figure size 432x288 with 1 Axes>"
      ]
     },
     "metadata": {},
     "output_type": "display_data"
    }
   ],
   "source": [
    "from sklearn.svm import SVC\n",
    "clf=SVC(kernel='linear')\n",
    "clf.fit(x_train,train[\"label\"])\n",
    "y_pred2=clf.predict(x_test)\n",
    "print(\"Accuracy of Prediction by Support Vector Machine(SVM) \"+str(accuracy_score(y_test,y_pred2)*100)+\" %\")\n",
    "matrix3=confusion_matrix(y_test,y_pred2)\n",
    "plt.title('Confusion Matrix for SVM')\n",
    "print(classification_report(y_test,y_pred2))\n",
    "ax=sns.heatmap(matrix3,xticklabels=x_labels,yticklabels=y_labels,annot=True,fmt='g',cbar=False)\n",
    "ax.set_ylim(1.8,0.2)"
   ]
  },
  {
   "cell_type": "code",
   "execution_count": 49,
   "metadata": {},
   "outputs": [
    {
     "name": "stderr",
     "output_type": "stream",
     "text": [
      "D:\\Anaconda\\lib\\site-packages\\sklearn\\linear_model\\logistic.py:432: FutureWarning: Default solver will be changed to 'lbfgs' in 0.22. Specify a solver to silence this warning.\n",
      "  FutureWarning)\n"
     ]
    },
    {
     "name": "stdout",
     "output_type": "stream",
     "text": [
      "Accuracy of Prediction by Logistic Regression 58.34784772331426 %\n",
      "              precision    recall  f1-score   support\n",
      "\n",
      "           0       0.57      0.76      0.65      2062\n",
      "           1       0.61      0.40      0.48      1957\n",
      "\n",
      "    accuracy                           0.58      4019\n",
      "   macro avg       0.59      0.58      0.57      4019\n",
      "weighted avg       0.59      0.58      0.57      4019\n",
      "\n"
     ]
    },
    {
     "data": {
      "text/plain": [
       "(1.8, 0.2)"
      ]
     },
     "execution_count": 49,
     "metadata": {},
     "output_type": "execute_result"
    },
    {
     "data": {
      "image/png": "[encoded data removed]",
      "text/plain": [
       "<Figure size 432x288 with 1 Axes>"
      ]
     },
     "metadata": {},
     "output_type": "display_data"
    }
   ],
   "source": [
    "from sklearn.linear_model import LogisticRegression\n",
    "classifier=LogisticRegression(random_state=256)\n",
    "classifier.fit(x_train,y_train)\n",
    "y_pred3=classifier.predict(x_test)\n",
    "print(\"Accuracy of Prediction by Logistic Regression \"+str(accuracy_score(y_test,y_pred3)*100)+\" %\")\n",
    "matrix3=confusion_matrix(y_test,y_pred2)\n",
    "plt.title('Confusion Matrix for Logistic Regression')\n",
    "print(classification_report(y_test,y_pred3))\n",
    "ax=sns.heatmap(matrix3,xticklabels=x_labels,yticklabels=y_labels,annot=True,fmt='g',cbar=False)\n",
    "ax.set_ylim(1.8,0.2)"
   ]
  },
  {
   "cell_type": "code",
   "execution_count": 62,
   "metadata": {},
   "outputs": [
    {
     "data": {
      "image/png": "[encoded data removed]",
      "text/plain": [
       "<Figure size 432x288 with 1 Axes>"
      ]
     },
     "metadata": {},
     "output_type": "display_data"
    }
   ],
   "source": [
    "import matplotlib.pyplot as plt\n",
    "fig=plt.figure()\n",
    "ax=fig.add_axes([0,0,1,1])\n",
    "algorithms=[\"Random Forest\",\"Naive Bayes\",\"SVM\",\"Logistic Regression\"]\n",
    "accuracy=[accuracy_score(y_test,y_pred),accuracy_score(y_test,y_pred1),accuracy_score(y_test,y_pred2),accuracy_score(y_test,y_pred3)]\n",
    "ax.bar(algorithms,accuracy,width=0.4)\n",
    "plt.title(\"Comparison of Algorithms\")\n",
    "plt.xlabel(\"Algorithms\")\n",
    "plt.ylabel(\"Accuracy\")\n",
    "plt.show()"
   ]
  },
  {
   "cell_type": "code",
   "execution_count": null,
   "metadata": {},
   "outputs": [],
   "source": []
  },
  {
   "cell_type": "code",
   "execution_count": null,
   "metadata": {},
   "outputs": [],
   "source": []
  },
  {
   "cell_type": "code",
   "execution_count": null,
   "metadata": {},
   "outputs": [],
   "source": []
  }
 ],
 "metadata": {
  "kernelspec": {
   "display_name": "Python 3",
   "language": "python",
   "name": "python3"
  },
  "language_info": {
   "codemirror_mode": {
    "name": "ipython",
    "version": 3
   },
   "file_extension": ".py",
   "mimetype": "text/x-python",
   "name": "python",
   "nbconvert_exporter": "python",
   "pygments_lexer": "ipython3",
   "version": "3.7.4"
  }
 },
 "nbformat": 4,
 "nbformat_minor": 2
}
